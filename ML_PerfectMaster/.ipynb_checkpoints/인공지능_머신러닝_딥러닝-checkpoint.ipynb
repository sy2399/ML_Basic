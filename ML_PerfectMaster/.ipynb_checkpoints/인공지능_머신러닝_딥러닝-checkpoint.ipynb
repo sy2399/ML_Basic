{
 "cells": [
  {
   "cell_type": "markdown",
   "metadata": {
    "ExecuteTime": {
     "end_time": "2020-04-07T05:51:00.437648Z",
     "start_time": "2020-04-07T05:51:00.433168Z"
    }
   },
   "source": [
    "cf. 머신러닝, 딥러닝, 기계학습 😱... 항상 3가지 용어가 등장하지만 무슨 차이인지 항상 헷갈리기에..정리하자..   \n",
    "\n",
    "***인공지능 > 머신러닝 > 인공신경망 > 딥러닝***"
   ]
  },
  {
   "cell_type": "markdown",
   "metadata": {},
   "source": [
    "***인공지능***   \n",
    "- 사람의 지능을 모방하여 사람이 하는 것과 같이 복잡한 일을 할 수 있는 기계를 만드는 것. (AI, Artificaial Intelligence)\n",
    "\n",
    "    - **인공지능의 정의 (인공지능-현대적 접근)**\n",
    "        - 인간처럼 생각하는 (Thinking Humanly)\n",
    "        - 인간처럼 행동하는 (Acting Humanly)\n",
    "        - 이성적으로 생각하는 (Thinking Rationally)\n",
    "        - 이성적으로 행동하는 (Acting Rationally)\n",
    "        <br/><br/>\n",
    "    - **인공지능의 4가지 유형 (인공지능과 딥러닝)**\n",
    "        - Lv1 단순한 제어 프로그램 : 단순한 제어 프로그램 탑재 제품을 마케팅적으로 '인공지능 탑재' 라 광고 (세탁/청소)\n",
    "        - Lv2 패턴이 다양한 고전적 인공지능 : 입력과 출력 관계를 맺는 방법의 수가 극단적으로 많고 세련된 경우 (탐색/추론, 지식베이스 활용)\n",
    "        - Lv3 머신러닝을 받아들인 인공지능 : 데이터를 바탕으로 학습되는 기계학습 알고리즘 이용 (Lv2 + 머신러닝)\n",
    "        - Lv4 딥러닝을 받아들인 인공지능 : 머신러닝을 적용할 때, 입력값의 특징(features)을 사람이 입력하지 않고 기계가 직접 학습\n",
    "\n",
    "***\n",
    "***머신러닝 (or 기계학습)***   \n",
    "- 머신러닝의 정의 : \"컴퓨터가 명시적으로 프로그램되지 않고도 학습할 수 있도록 하는 연구분야 (Field of study that gives computers the ability to learn without being explicitly programmed)   \n",
    "    - 기존의 프로그램 : \"A 입력에 B 조건이 성립하면, X 를 동작시킨다\"\n",
    "    - 머신러닝 : \"A라는 정보를 입력할 때, 대답이 X 가 되는 조건 B 를 찾도록 기계를 학습시킨다)\n",
    "    - 프로그램의 학습 : \"만약 어떤 작업 T 에서, 경험 E 를 통해 성능이 향상된다면, 이런 컴퓨터 프로그램을 '학습'을 한다고 말한다\"\n",
    "    <br/><br/>\n",
    "    - **머신러닝의 종류**\n",
    "        - 지도학습 (Supervised Learning): 분류, 회귀, 시각/음성 감지/인지\n",
    "        - 비지도학습 (Unsupervised Learning) : 군집화(클러스터링), 차원축소\n",
    "        - 강화학습 (Reinforcement Learning)\n",
    "        \n",
    "        - 머신러닝 알고리즘 유형 (by 마스터 알고리즘 책)\n",
    "            - 기호주의(규칙) : 결정 트리\n",
    "            - 여\n",
    "    <br/><br/>   \n",
    "    - **머신러닝의 결과는 가중치(파라미터)**\n",
    "        - 사람이 하는 학습의 결과가 두뇌에 지식의 형태로 축적되듯이, 머신러닝 학습의 결과는 ***가중치(weight) 값, 즉 파라미터(parameter) 값의 형태로 축적된다.***\n",
    "        <br/><br/>\n",
    "        - Ex) 손으로 쓴 숫자를 인식하는 프로그램을 만들 때\n",
    "            * 입력은 숫자 그림의 픽셀값이다 (20 * 20 = 400).\n",
    "            * 머신러닝은 400개의 픽셀값을 이용해 예측함수 h1~h10 를 만든다   \n",
    "            (h1 = 숫자 그림이 1일 확률)\n",
    "            * 각 함수마다 400개의 픽셀값에 대응하는 파라미터값을 찾는다   \n",
    "            (즉 400 * 10 개의 파라미터를 찾아야 한다)\n",
    "            * 초기에는 임의의 파라미터 값으로 시작하고, 계산된 hi 값과 정답과의 차이를 이용해 hi 값이 정답에 가까워지도록 파라미터를 조절하는 경사하강법을 사용한다\n",
    "\n",
    "***\n",
    "***딥러닝***\n",
    "- 딥러닝은 인간의 뇌 신경망을 모방한 인공신경망의 한 종류\n",
    "- 인공신경망이란? 인간의 뇌는 1000억 개가 넘는 뉴런이 100조 개 이상의 시냅스를 통해 병렬적으로 연결되어 있다. 각각의 뉴런은 다른 뉴런에서 입력 신호를 받아 축색돌기를 통해 다른 뉴런으로 신호를 보낸다. 출력 신호는 입력된 신호가 모여서 ***일정한 용량을 넘어설 때 일어난다***\n",
    "<br/><br/>\n",
    "- 인공신경망 모델은 뉴런을 수학적으로 모델링한 것으로, 뉴런이 다른 여러개의 뉴런으로부터 입력값을 받아 세포체에 저장하다가 자신의 용량을 넘어서면 외부로 출력을 내보내는 것처럼, 인공신경망 뉴런은 여러 입력값을 받아 일정 수준이 넘어서면 ***활성화***되어 출력값을 내보낸다.\n",
    "\n",
    "\n",
    "https://brunch.co.kr/@gdhan/10"
   ]
  },
  {
   "cell_type": "code",
   "execution_count": null,
   "metadata": {},
   "outputs": [],
   "source": []
  }
 ],
 "metadata": {
  "hide_input": false,
  "kernelspec": {
   "display_name": "Python 3",
   "language": "python",
   "name": "python3"
  },
  "language_info": {
   "codemirror_mode": {
    "name": "ipython",
    "version": 3
   },
   "file_extension": ".py",
   "mimetype": "text/x-python",
   "name": "python",
   "nbconvert_exporter": "python",
   "pygments_lexer": "ipython3",
   "version": "3.7.4"
  },
  "toc": {
   "base_numbering": 1,
   "nav_menu": {},
   "number_sections": true,
   "sideBar": true,
   "skip_h1_title": false,
   "title_cell": "Table of Contents",
   "title_sidebar": "Contents",
   "toc_cell": false,
   "toc_position": {},
   "toc_section_display": true,
   "toc_window_display": false
  },
  "varInspector": {
   "cols": {
    "lenName": 16,
    "lenType": 16,
    "lenVar": 40
   },
   "kernels_config": {
    "python": {
     "delete_cmd_postfix": "",
     "delete_cmd_prefix": "del ",
     "library": "var_list.py",
     "varRefreshCmd": "print(var_dic_list())"
    },
    "r": {
     "delete_cmd_postfix": ") ",
     "delete_cmd_prefix": "rm(",
     "library": "var_list.r",
     "varRefreshCmd": "cat(var_dic_list()) "
    }
   },
   "types_to_exclude": [
    "module",
    "function",
    "builtin_function_or_method",
    "instance",
    "_Feature"
   ],
   "window_display": false
  }
 },
 "nbformat": 4,
 "nbformat_minor": 4
}
