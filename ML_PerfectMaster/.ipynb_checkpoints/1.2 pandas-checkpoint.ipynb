{
 "cells": [
  {
   "cell_type": "markdown",
   "metadata": {},
   "source": [
    "***\n",
    "**Python 머신러닝 완벽 가이드 Section 1-2.pandas** [Link](https://www.inflearn.com/course/%ED%8C%8C%EC%9D%B4%EC%8D%AC-%EB%A8%B8%EC%8B%A0%EB%9F%AC%EB%8B%9D-%EC%99%84%EB%B2%BD%EA%B0%80%EC%9D%B4%EB%93%9C#)\n",
    "\n",
    "1. Pandas 기본\n",
    "2. DataFrame의 컬럼 데이터 셋 Access\n",
    "3. DataFrame 데이터 삭제\n",
    "4. ndarray 선형대수 연산\n",
    "\n"
   ]
  },
  {
   "cell_type": "code",
   "execution_count": 4,
   "metadata": {
    "ExecuteTime": {
     "end_time": "2020-10-16T07:19:14.109144Z",
     "start_time": "2020-10-16T07:19:14.106277Z"
    }
   },
   "outputs": [],
   "source": [
    "# !conda install pandas -y\n",
    "import pandas as pd"
   ]
  },
  {
   "cell_type": "markdown",
   "metadata": {},
   "source": [
    "# Pandas 기본\n",
    "\n",
    "- 인간이 가장 이해하기 쉬운 데이터\n",
    "- 시계열 데이터 처리에 용이\n",
    "   \n",
    "- 주요 구성 요소\n",
    "    - DataFrame : Column * Rows 2차원 데이터 셋\n",
    "    - Series : 1개의 Column 값으로만 구성된 1차원 데이터 셋\n",
    "        - column 값으로만 구성되어 있고, column 명이 없음!\n",
    "    - DataFrame, Series ==> 고유한 key값 객체를 가짐\n",
    "       \n",
    "- 기본 API\n",
    "    - read_csv()\n",
    "    - head()\n",
    "    - shape\n",
    "    - info()\n",
    "    - describe()\n",
    "    - value_counts()\n",
    "    - sort_values()"
   ]
  },
  {
   "cell_type": "code",
   "execution_count": null,
   "metadata": {},
   "outputs": [],
   "source": []
  }
 ],
 "metadata": {
  "hide_input": false,
  "kernelspec": {
   "display_name": "Python 3",
   "language": "python",
   "name": "python3"
  },
  "language_info": {
   "codemirror_mode": {
    "name": "ipython",
    "version": 3
   },
   "file_extension": ".py",
   "mimetype": "text/x-python",
   "name": "python",
   "nbconvert_exporter": "python",
   "pygments_lexer": "ipython3",
   "version": "3.7.9"
  },
  "toc": {
   "base_numbering": 1,
   "nav_menu": {},
   "number_sections": true,
   "sideBar": true,
   "skip_h1_title": false,
   "title_cell": "Table of Contents",
   "title_sidebar": "Contents",
   "toc_cell": false,
   "toc_position": {},
   "toc_section_display": true,
   "toc_window_display": false
  },
  "varInspector": {
   "cols": {
    "lenName": 16,
    "lenType": 16,
    "lenVar": 40
   },
   "kernels_config": {
    "python": {
     "delete_cmd_postfix": "",
     "delete_cmd_prefix": "del ",
     "library": "var_list.py",
     "varRefreshCmd": "print(var_dic_list())"
    },
    "r": {
     "delete_cmd_postfix": ") ",
     "delete_cmd_prefix": "rm(",
     "library": "var_list.r",
     "varRefreshCmd": "cat(var_dic_list()) "
    }
   },
   "types_to_exclude": [
    "module",
    "function",
    "builtin_function_or_method",
    "instance",
    "_Feature"
   ],
   "window_display": false
  }
 },
 "nbformat": 4,
 "nbformat_minor": 4
}
