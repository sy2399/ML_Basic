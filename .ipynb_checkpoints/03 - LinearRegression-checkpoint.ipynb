{
 "cells": [
  {
   "cell_type": "code",
   "execution_count": 1,
   "metadata": {
    "ExecuteTime": {
     "end_time": "2020-01-04T08:13:09.711454Z",
     "start_time": "2020-01-04T08:13:01.385523Z"
    },
    "collapsed": true
   },
   "outputs": [
    {
     "name": "stdout",
     "output_type": "stream",
     "text": [
      "Requirement already satisfied: keras in /anaconda2/envs/tensorflow/lib/python3.7/site-packages (from -r requirements.txt (line 1)) (2.3.1)\n",
      "Requirement already satisfied: matplotlib in /anaconda2/envs/tensorflow/lib/python3.7/site-packages (from -r requirements.txt (line 2)) (3.1.1)\n",
      "Requirement already satisfied: numpy in /Users/imsoyoung/.local/lib/python3.7/site-packages (from -r requirements.txt (line 3)) (1.16.4)\n",
      "Requirement already satisfied: tensorflow in /anaconda2/envs/tensorflow/lib/python3.7/site-packages (from -r requirements.txt (line 4)) (1.14.0)\n",
      "Requirement already satisfied: scikit_learn in /anaconda2/envs/tensorflow/lib/python3.7/site-packages (from -r requirements.txt (line 5)) (0.21.0)\n",
      "Collecting tqdm\n",
      "\u001b[?25l  Downloading https://files.pythonhosted.org/packages/72/c9/7fc20feac72e79032a7c8138fd0d395dc6d8812b5b9edf53c3afd0b31017/tqdm-4.41.1-py2.py3-none-any.whl (56kB)\n",
      "\u001b[K     |████████████████████████████████| 61kB 217kB/s eta 0:00:01\n",
      "\u001b[?25hCollecting pylint\n",
      "\u001b[?25l  Downloading https://files.pythonhosted.org/packages/e9/59/43fc36c5ee316bb9aeb7cf5329cdbdca89e5749c34d5602753827c0aa2dc/pylint-2.4.4-py3-none-any.whl (302kB)\n",
      "\u001b[K     |████████████████████████████████| 307kB 720kB/s eta 0:00:01\n",
      "\u001b[?25hRequirement already satisfied: keras-preprocessing>=1.0.5 in /Users/imsoyoung/.local/lib/python3.7/site-packages (from keras->-r requirements.txt (line 1)) (1.0.5)\n",
      "Requirement already satisfied: pyyaml in /anaconda2/envs/tensorflow/lib/python3.7/site-packages (from keras->-r requirements.txt (line 1)) (5.2)\n",
      "Requirement already satisfied: six>=1.9.0 in /anaconda2/envs/tensorflow/lib/python3.7/site-packages (from keras->-r requirements.txt (line 1)) (1.12.0)\n",
      "Requirement already satisfied: scipy>=0.14 in /anaconda2/envs/tensorflow/lib/python3.7/site-packages (from keras->-r requirements.txt (line 1)) (1.2.1)\n",
      "Requirement already satisfied: h5py in /anaconda2/envs/tensorflow/lib/python3.7/site-packages (from keras->-r requirements.txt (line 1)) (2.9.0)\n",
      "Requirement already satisfied: keras-applications>=1.0.6 in /Users/imsoyoung/.local/lib/python3.7/site-packages (from keras->-r requirements.txt (line 1)) (1.0.6)\n",
      "Requirement already satisfied: kiwisolver>=1.0.1 in /anaconda2/envs/tensorflow/lib/python3.7/site-packages (from matplotlib->-r requirements.txt (line 2)) (1.1.0)\n",
      "Requirement already satisfied: cycler>=0.10 in /anaconda2/envs/tensorflow/lib/python3.7/site-packages (from matplotlib->-r requirements.txt (line 2)) (0.10.0)\n",
      "Requirement already satisfied: pyparsing!=2.0.4,!=2.1.2,!=2.1.6,>=2.0.1 in /anaconda2/envs/tensorflow/lib/python3.7/site-packages (from matplotlib->-r requirements.txt (line 2)) (2.4.2)\n",
      "Requirement already satisfied: python-dateutil>=2.1 in /anaconda2/envs/tensorflow/lib/python3.7/site-packages (from matplotlib->-r requirements.txt (line 2)) (2.8.0)\n",
      "Requirement already satisfied: absl-py>=0.7.0 in /anaconda2/envs/tensorflow/lib/python3.7/site-packages (from tensorflow->-r requirements.txt (line 4)) (0.7.1)\n",
      "Requirement already satisfied: grpcio>=1.8.6 in /anaconda2/envs/tensorflow/lib/python3.7/site-packages (from tensorflow->-r requirements.txt (line 4)) (1.23.0)\n",
      "Requirement already satisfied: protobuf>=3.6.1 in /anaconda2/envs/tensorflow/lib/python3.7/site-packages (from tensorflow->-r requirements.txt (line 4)) (3.9.1)\n",
      "Requirement already satisfied: wrapt>=1.11.1 in /anaconda2/envs/tensorflow/lib/python3.7/site-packages (from tensorflow->-r requirements.txt (line 4)) (1.11.1)\n",
      "Requirement already satisfied: termcolor>=1.1.0 in /anaconda2/envs/tensorflow/lib/python3.7/site-packages (from tensorflow->-r requirements.txt (line 4)) (1.1.0)\n",
      "Requirement already satisfied: gast>=0.2.0 in /anaconda2/envs/tensorflow/lib/python3.7/site-packages (from tensorflow->-r requirements.txt (line 4)) (0.2.2)\n",
      "Requirement already satisfied: tensorboard<1.15.0,>=1.14.0 in /anaconda2/envs/tensorflow/lib/python3.7/site-packages (from tensorflow->-r requirements.txt (line 4)) (1.14.0)\n",
      "Requirement already satisfied: wheel>=0.26 in /Users/imsoyoung/.local/lib/python3.7/site-packages (from tensorflow->-r requirements.txt (line 4)) (0.33.4)\n",
      "Requirement already satisfied: tensorflow-estimator<1.15.0rc0,>=1.14.0rc0 in /anaconda2/envs/tensorflow/lib/python3.7/site-packages (from tensorflow->-r requirements.txt (line 4)) (1.14.0)\n",
      "Requirement already satisfied: astor>=0.6.0 in /anaconda2/envs/tensorflow/lib/python3.7/site-packages (from tensorflow->-r requirements.txt (line 4)) (0.8.0)\n",
      "Requirement already satisfied: google-pasta>=0.1.6 in /anaconda2/envs/tensorflow/lib/python3.7/site-packages (from tensorflow->-r requirements.txt (line 4)) (0.1.7)\n",
      "Requirement already satisfied: joblib>=0.11 in /anaconda2/envs/tensorflow/lib/python3.7/site-packages (from scikit_learn->-r requirements.txt (line 5)) (0.13.2)\n",
      "Collecting mccabe<0.7,>=0.6\n",
      "  Downloading https://files.pythonhosted.org/packages/87/89/479dc97e18549e21354893e4ee4ef36db1d237534982482c3681ee6e7b57/mccabe-0.6.1-py2.py3-none-any.whl\n",
      "Collecting isort<5,>=4.2.5\n",
      "\u001b[?25l  Downloading https://files.pythonhosted.org/packages/e5/b0/c121fd1fa3419ea9bfd55c7f9c4fedfec5143208d8c7ad3ce3db6c623c21/isort-4.3.21-py2.py3-none-any.whl (42kB)\n",
      "\u001b[K     |████████████████████████████████| 51kB 4.9MB/s  eta 0:00:01\n",
      "\u001b[?25hCollecting astroid<2.4,>=2.3.0\n",
      "\u001b[?25l  Downloading https://files.pythonhosted.org/packages/ad/ae/86734823047962e7b8c8529186a1ac4a7ca19aaf1aa0c7713c022ef593fd/astroid-2.3.3-py3-none-any.whl (205kB)\n",
      "\u001b[K     |████████████████████████████████| 215kB 14.8MB/s eta 0:00:01\n",
      "\u001b[?25hRequirement already satisfied: setuptools in /anaconda2/envs/tensorflow/lib/python3.7/site-packages (from kiwisolver>=1.0.1->matplotlib->-r requirements.txt (line 2)) (41.0.1)\n",
      "Requirement already satisfied: markdown>=2.6.8 in /anaconda2/envs/tensorflow/lib/python3.7/site-packages (from tensorboard<1.15.0,>=1.14.0->tensorflow->-r requirements.txt (line 4)) (3.1.1)\n",
      "Requirement already satisfied: werkzeug>=0.11.15 in /anaconda2/envs/tensorflow/lib/python3.7/site-packages (from tensorboard<1.15.0,>=1.14.0->tensorflow->-r requirements.txt (line 4)) (0.15.5)\n",
      "Collecting typed-ast<1.5,>=1.4.0; implementation_name == \"cpython\" and python_version < \"3.8\"\n",
      "\u001b[?25l  Downloading https://files.pythonhosted.org/packages/a0/03/266268b053ad81b8aea17bc3f5e6d3cf074bb4372d229336867a67e17076/typed_ast-1.4.0-cp37-cp37m-macosx_10_9_x86_64.whl (215kB)\n",
      "\u001b[K     |████████████████████████████████| 225kB 14.5MB/s eta 0:00:01\n",
      "\u001b[?25hCollecting lazy-object-proxy==1.4.*\n",
      "  Downloading https://files.pythonhosted.org/packages/e2/44/044dc5610d868cd4e9329549c07e8366c0b0aace410d2502a131c46576de/lazy_object_proxy-1.4.3-cp37-cp37m-macosx_10_13_x86_64.whl\n",
      "Installing collected packages: tqdm, mccabe, isort, typed-ast, lazy-object-proxy, astroid, pylint\n",
      "Successfully installed astroid-2.3.3 isort-4.3.21 lazy-object-proxy-1.4.3 mccabe-0.6.1 pylint-2.4.4 tqdm-4.41.1 typed-ast-1.4.0\n"
     ]
    }
   ],
   "source": [
    "#https://github.com/sy2399/DeepLearningZeroToAll\n",
    "!pip install -r requirements.txt"
   ]
  },
  {
   "cell_type": "markdown",
   "metadata": {},
   "source": [
    "# X 와 Y 의 상관관계를 분석하는 기초적인 선형 회귀 모델\n"
   ]
  },
  {
   "cell_type": "code",
   "execution_count": 1,
   "metadata": {
    "ExecuteTime": {
     "end_time": "2019-08-29T05:43:32.393337Z",
     "start_time": "2019-08-29T05:43:29.940427Z"
    }
   },
   "outputs": [
    {
     "name": "stderr",
     "output_type": "stream",
     "text": [
      "//anaconda2/envs/tensorflow/lib/python3.7/importlib/_bootstrap.py:219: RuntimeWarning: compiletime version 3.6 of module 'tensorflow.python.framework.fast_tensor_util' does not match runtime version 3.7\n",
      "  return f(*args, **kwds)\n"
     ]
    }
   ],
   "source": [
    "# X 와 Y 의 상관관계를 분석하는 기초적인 선형 회귀 모델을 만들고 실행해봅니다.\n",
    "import tensorflow as tf\n"
   ]
  },
  {
   "cell_type": "code",
   "execution_count": 2,
   "metadata": {
    "ExecuteTime": {
     "end_time": "2019-08-29T05:45:15.909562Z",
     "start_time": "2019-08-29T05:45:15.856123Z"
    }
   },
   "outputs": [],
   "source": [
    "x_data = [1, 2, 3]\n",
    "y_data = [1, 2, 3]\n",
    "\n",
    "\n",
    "W = tf.Variable(tf.random_uniform([1], -1.0, 1.0))\n",
    "b = tf.Variable(tf.random_uniform([1], -1.0, 1.0))\n"
   ]
  },
  {
   "cell_type": "code",
   "execution_count": 3,
   "metadata": {
    "ExecuteTime": {
     "end_time": "2019-08-29T05:45:22.991247Z",
     "start_time": "2019-08-29T05:45:22.984714Z"
    }
   },
   "outputs": [
    {
     "name": "stdout",
     "output_type": "stream",
     "text": [
      "Tensor(\"X:0\", dtype=float32)\n",
      "Tensor(\"Y:0\", dtype=float32)\n"
     ]
    }
   ],
   "source": [
    "\n",
    "# name: 나중에 텐서보드등으로 값의 변화를 추적하거나 살펴보기 쉽게 하기 위해 이름을 붙여줍니다.\n",
    "X = tf.placeholder(tf.float32, name=\"X\")\n",
    "Y = tf.placeholder(tf.float32, name=\"Y\")\n",
    "print(X)\n",
    "print(Y)"
   ]
  },
  {
   "cell_type": "code",
   "execution_count": 4,
   "metadata": {
    "ExecuteTime": {
     "end_time": "2019-08-29T05:45:29.136479Z",
     "start_time": "2019-08-29T05:45:29.131495Z"
    }
   },
   "outputs": [],
   "source": [
    "\n",
    "# X 와 Y 의 상관 관계를 분석하기 위한 가설 수식을 작성합니다.\n",
    "# y = W * x + b\n",
    "# W 와 X 가 행렬이 아니므로 tf.matmul 이 아니라 기본 곱셈 기호를 사용했습니다.\n",
    "\n",
    "hypothesis = W * X + b\n"
   ]
  },
  {
   "cell_type": "code",
   "execution_count": 18,
   "metadata": {
    "ExecuteTime": {
     "end_time": "2019-08-29T06:01:12.658663Z",
     "start_time": "2019-08-29T06:01:12.594820Z"
    }
   },
   "outputs": [],
   "source": [
    "# 최적화를 통해 손실값이 적어지는 W, b 를 찾는 것이 목표\n",
    "\n",
    "# 손실 함수를 작성합니다.\n",
    "# mean(h - Y)^2 : 예측값과 실제값의 거리를 비용(손실) 함수로 정합니다.\n",
    "cost = tf.reduce_mean(tf.square(hypothesis - Y))\n",
    "\n",
    "# 텐서플로우에 기본적으로 포함되어 있는 함수를 이용해 경사 하강법 최적화를 수행합니다.\n",
    "optimizer = tf.train.GradientDescentOptimizer(learning_rate=0.1)\n",
    "\n",
    "\"\"\"\n",
    "tf.train.GradientDescentOptimizer 작동 방식\n",
    "\n",
    "\"\"\"\n",
    "# 비용을 최소화 하는 것이 최종 목표\n",
    "train_op = optimizer.minimize(cost)"
   ]
  },
  {
   "cell_type": "code",
   "execution_count": 19,
   "metadata": {
    "ExecuteTime": {
     "end_time": "2019-08-29T06:01:12.926235Z",
     "start_time": "2019-08-29T06:01:12.739235Z"
    },
    "scrolled": true
   },
   "outputs": [
    {
     "name": "stdout",
     "output_type": "stream",
     "text": [
      "0 21.811106 [1.2766397] [-0.09067428]\n",
      "1 0.2650232 [1.0547123] [-0.18319531]\n",
      "2 0.0074377437 [1.0769256] [-0.16844116]\n",
      "3 0.004157901 [1.0725049] [-0.16552319]\n",
      "4 0.00392543 [1.071043] [-0.1614205]\n",
      "5 0.0037385563 [1.0693045] [-0.1575536]\n",
      "6 0.0035609712 [1.0676417] [-0.15376467]\n",
      "7 0.0033918228 [1.0660154] [-0.15006842]\n",
      "8 0.0032307096 [1.0644283] [-0.14646088]\n",
      "9 0.0030772525 [1.0628796] [-0.14294004]\n",
      "10 0.002931077 [1.061368] [-0.13950387]\n",
      "11 0.0027918443 [1.0598928] [-0.13615029]\n",
      "12 0.0026592358 [1.058453] [-0.13287735]\n",
      "13 0.0025329157 [1.0570478] [-0.12968306]\n",
      "14 0.0024126053 [1.0556765] [-0.12656559]\n",
      "15 0.0022980005 [1.054338] [-0.12352305]\n",
      "16 0.002188848 [1.0530317] [-0.12055364]\n",
      "17 0.0020848704 [1.0517569] [-0.11765558]\n",
      "18 0.0019858412 [1.0505127] [-0.11482721]\n",
      "19 0.0018915096 [1.0492984] [-0.11206684]\n",
      "20 0.00180167 [1.0481132] [-0.10937284]\n",
      "21 0.0017160801 [1.0469567] [-0.10674355]\n",
      "22 0.0016345702 [1.0458279] [-0.1041775]\n",
      "23 0.0015569228 [1.0447261] [-0.10167316]\n",
      "24 0.0014829674 [1.043651] [-0.09922899]\n",
      "25 0.0014125208 [1.0426017] [-0.09684357]\n",
      "26 0.0013454357 [1.0415775] [-0.09451555]\n",
      "27 0.0012815234 [1.040578] [-0.09224343]\n",
      "28 0.0012206497 [1.0396025] [-0.09002595]\n",
      "29 0.0011626661 [1.0386505] [-0.08786177]\n",
      "30 0.0011074374 [1.0377214] [-0.08574962]\n",
      "31 0.0010548333 [1.0368146] [-0.08368825]\n",
      "32 0.0010047255 [1.0359297] [-0.08167642]\n",
      "33 0.00095700193 [1.0350659] [-0.079713]\n",
      "34 0.0009115419 [1.034223] [-0.07779675]\n",
      "35 0.00086824415 [1.0334003] [-0.07592658]\n",
      "36 0.0008270045 [1.0325973] [-0.07410139]\n",
      "37 0.0007877196 [1.0318137] [-0.07232002]\n",
      "38 0.0007503058 [1.0310489] [-0.07058153]\n",
      "39 0.00071466714 [1.0303025] [-0.06888479]\n",
      "40 0.00068071554 [1.0295742] [-0.06722883]\n",
      "41 0.0006483828 [1.0288632] [-0.06561273]\n",
      "42 0.0006175832 [1.0281693] [-0.06403545]\n",
      "43 0.0005882502 [1.027492] [-0.06249608]\n",
      "44 0.0005603032 [1.0268313] [-0.06099368]\n",
      "45 0.0005336917 [1.0261862] [-0.05952746]\n",
      "46 0.0005083408 [1.0255567] [-0.05809646]\n",
      "47 0.00048419504 [1.0249423] [-0.05669986]\n",
      "48 0.00046119335 [1.0243428] [-0.0553368]\n",
      "49 0.0004392869 [1.0237576] [-0.05400655]\n",
      "50 0.00041842158 [1.0231864] [-0.05270828]\n",
      "51 0.00039854317 [1.0226291] [-0.05144119]\n",
      "52 0.00037961244 [1.0220851] [-0.0502046]\n",
      "53 0.0003615809 [1.0215542] [-0.04899771]\n",
      "54 0.00034440725 [1.021036] [-0.04781986]\n",
      "55 0.0003280456 [1.0205303] [-0.04667029]\n",
      "56 0.00031246702 [1.0200368] [-0.04554838]\n",
      "57 0.000297623 [1.0195551] [-0.04445343]\n",
      "58 0.00028348516 [1.019085] [-0.04338479]\n",
      "59 0.0002700202 [1.0186262] [-0.04234186]\n",
      "60 0.00025719148 [1.0181785] [-0.04132397]\n",
      "61 0.0002449765 [1.0177414] [-0.04033056]\n",
      "62 0.0002333387 [1.017315] [-0.03936102]\n",
      "63 0.0002222563 [1.0168988] [-0.03841484]\n",
      "64 0.00021169831 [1.0164925] [-0.03749138]\n",
      "65 0.00020164372 [1.016096] [-0.03659011]\n",
      "66 0.00019206312 [1.0157092] [-0.03571048]\n",
      "67 0.00018293998 [1.0153315] [-0.03485205]\n",
      "68 0.00017425122 [1.0149629] [-0.03401424]\n",
      "69 0.00016597418 [1.0146033] [-0.03319656]\n",
      "70 0.0001580923 [1.0142522] [-0.03239857]\n",
      "71 0.00015058223 [1.0139096] [-0.03161974]\n",
      "72 0.00014342833 [1.0135752] [-0.03085961]\n",
      "73 0.00013661543 [1.0132488] [-0.03011777]\n",
      "74 0.0001301252 [1.0129304] [-0.02939374]\n",
      "75 0.0001239456 [1.0126195] [-0.02868715]\n",
      "76 0.00011805664 [1.0123162] [-0.02799751]\n",
      "77 0.00011244979 [1.0120201] [-0.02732451]\n",
      "78 0.000107108994 [1.0117311] [-0.02666765]\n",
      "79 0.00010202109 [1.0114491] [-0.02602659]\n",
      "80 9.7175514e-05 [1.0111738] [-0.02540091]\n",
      "81 9.25597e-05 [1.0109053] [-0.02479028]\n",
      "82 8.816216e-05 [1.0106431] [-0.02419433]\n",
      "83 8.39752e-05 [1.0103872] [-0.02361273]\n",
      "84 7.9985395e-05 [1.0101376] [-0.02304505]\n",
      "85 7.6186e-05 [1.0098939] [-0.02249106]\n",
      "86 7.256738e-05 [1.009656] [-0.02195041]\n",
      "87 6.911967e-05 [1.0094239] [-0.02142271]\n",
      "88 6.5837434e-05 [1.0091974] [-0.02090772]\n",
      "89 6.271024e-05 [1.0089762] [-0.02040513]\n",
      "90 5.9730985e-05 [1.0087605] [-0.0199146]\n",
      "91 5.6893146e-05 [1.0085499] [-0.01943585]\n",
      "92 5.4191205e-05 [1.0083443] [-0.01896865]\n",
      "93 5.161761e-05 [1.0081437] [-0.01851265]\n",
      "94 4.916465e-05 [1.0079479] [-0.01806758]\n",
      "95 4.682949e-05 [1.007757] [-0.01763323]\n",
      "96 4.460494e-05 [1.0075704] [-0.01720937]\n",
      "97 4.248692e-05 [1.0073884] [-0.01679566]\n",
      "98 4.0467916e-05 [1.0072109] [-0.01639187]\n",
      "99 3.8546656e-05 [1.0070374] [-0.01599785]\n",
      "\n",
      "=== Test ===\n",
      "X: 5, Y: [5.019189]\n",
      "X: 2.5, Y: [2.5015955]\n"
     ]
    }
   ],
   "source": [
    "# 세션을 생성하고 초기화합니다.\n",
    "with tf.Session() as sess:\n",
    "    sess.run(tf.global_variables_initializer())\n",
    "\n",
    "    # 최적화를 100번 수행합니다.\n",
    "    for step in range(100):\n",
    "        # sess.run 을 통해 train_op 와 cost 그래프를 계산합니다.\n",
    "        # 이 때, 가설 수식에 넣어야 할 실제값을 feed_dict 을 통해 전달합니다.\n",
    "        \n",
    "        #sess.run([train_op, cost]) : \n",
    "        _, cost_val = sess.run([train_op, cost], feed_dict={X: x_data, Y: y_data})\n",
    "\n",
    "        print(step, cost_val, sess.run(W), sess.run(b))\n",
    "\n",
    "    # 최적화가 완료된 모델에 테스트 값을 넣고 결과가 잘 나오는지 확인해봅니다.\n",
    "    print(\"\\n=== Test ===\")\n",
    "    print(\"X: 5, Y:\", sess.run(hypothesis, feed_dict={X: 5}))\n",
    "    print(\"X: 2.5, Y:\", sess.run(hypothesis, feed_dict={X: 2.5}))\n"
   ]
  },
  {
   "cell_type": "markdown",
   "metadata": {},
   "source": [
    "# Linear Regression - Minimizing Cost"
   ]
  },
  {
   "cell_type": "code",
   "execution_count": null,
   "metadata": {},
   "outputs": [],
   "source": []
  }
 ],
 "metadata": {
  "kernelspec": {
   "display_name": "Python 3",
   "language": "python",
   "name": "python3"
  },
  "language_info": {
   "codemirror_mode": {
    "name": "ipython",
    "version": 3
   },
   "file_extension": ".py",
   "mimetype": "text/x-python",
   "name": "python",
   "nbconvert_exporter": "python",
   "pygments_lexer": "ipython3",
   "version": "3.7.4"
  },
  "toc": {
   "base_numbering": 1,
   "nav_menu": {},
   "number_sections": true,
   "sideBar": true,
   "skip_h1_title": false,
   "title_cell": "Table of Contents",
   "title_sidebar": "Contents",
   "toc_cell": false,
   "toc_position": {},
   "toc_section_display": true,
   "toc_window_display": false
  },
  "varInspector": {
   "cols": {
    "lenName": 16,
    "lenType": 16,
    "lenVar": 40
   },
   "kernels_config": {
    "python": {
     "delete_cmd_postfix": "",
     "delete_cmd_prefix": "del ",
     "library": "var_list.py",
     "varRefreshCmd": "print(var_dic_list())"
    },
    "r": {
     "delete_cmd_postfix": ") ",
     "delete_cmd_prefix": "rm(",
     "library": "var_list.r",
     "varRefreshCmd": "cat(var_dic_list()) "
    }
   },
   "types_to_exclude": [
    "module",
    "function",
    "builtin_function_or_method",
    "instance",
    "_Feature"
   ],
   "window_display": false
  }
 },
 "nbformat": 4,
 "nbformat_minor": 2
}
