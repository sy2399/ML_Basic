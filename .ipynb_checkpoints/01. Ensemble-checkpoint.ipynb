{
 "cells": [
  {
   "cell_type": "markdown",
   "metadata": {},
   "source": [
    "# Ensenble 앙상블\n",
    "\n",
    "- [ ] DecisionTree, RandomForest\n",
    "- [ ] GradientBoost\n",
    "    - [ ] XGBoost\n",
    "    - [ ] AdaBoost\n",
    "    - [ ] CatBoost\n",
    "    - [ ] LightGBM\n",
    "\n"
   ]
  },
  {
   "cell_type": "markdown",
   "metadata": {
    "ExecuteTime": {
     "end_time": "2020-04-07T03:05:18.788635Z",
     "start_time": "2020-04-07T03:05:18.624454Z"
    }
   },
   "source": [
    "cf. 머신러닝, 딥러닝, 기계학습 😱... 항상 3가지 용어가 등장하지만 무슨 차이인지 항상 헷갈리기에..정리하자..   \n",
    "\n",
    "***인공지능 > 머신러닝 > 인공신경망 > 딥러닝***\n",
    "\n",
    "- 인공지능\n",
    "    - Lv1 단순한 제어 프로그램 \n",
    "    - Lv2 패턴이 다양한 고전적 인공지능\n",
    "    - Lv3 머신러닝을 받아들인 인공지능\n",
    "    - Lv4 딥러닝을 받아들인 인공지능\n",
    "    \n",
    "- 머신러닝 (or 기계학습)\n",
    "- 딥러닝\n",
    "\n",
    "\n",
    "https://brunch.co.kr/@gdhan/10"
   ]
  },
  {
   "cell_type": "code",
   "execution_count": null,
   "metadata": {},
   "outputs": [],
   "source": []
  },
  {
   "cell_type": "markdown",
   "metadata": {},
   "source": [
    "## DecisionTree, RandomForest\n",
    "\n",
    "- DecisionTree : 결정트리 학습법   \n",
    ": 데이터의 Feature 에서 패턴을 찾는 머신러닝 모델\n",
    "\n",
    "\n",
    "https://ko.wikipedia.org/wiki/%EA%B2%B0%EC%A0%95_%ED%8A%B8%EB%A6%AC_%ED%95%99%EC%8A%B5%EB%B2%95 \n",
    "https://eunsukim.me/Decision-Tree/"
   ]
  },
  {
   "cell_type": "code",
   "execution_count": null,
   "metadata": {},
   "outputs": [],
   "source": []
  },
  {
   "cell_type": "code",
   "execution_count": null,
   "metadata": {},
   "outputs": [],
   "source": []
  },
  {
   "cell_type": "code",
   "execution_count": null,
   "metadata": {},
   "outputs": [],
   "source": []
  },
  {
   "cell_type": "code",
   "execution_count": null,
   "metadata": {},
   "outputs": [],
   "source": []
  },
  {
   "cell_type": "code",
   "execution_count": null,
   "metadata": {},
   "outputs": [],
   "source": []
  },
  {
   "cell_type": "code",
   "execution_count": null,
   "metadata": {},
   "outputs": [],
   "source": []
  },
  {
   "cell_type": "code",
   "execution_count": null,
   "metadata": {},
   "outputs": [],
   "source": []
  },
  {
   "cell_type": "code",
   "execution_count": null,
   "metadata": {},
   "outputs": [],
   "source": []
  }
 ],
 "metadata": {
  "kernelspec": {
   "display_name": "Python 3",
   "language": "python",
   "name": "python3"
  },
  "language_info": {
   "codemirror_mode": {
    "name": "ipython",
    "version": 3
   },
   "file_extension": ".py",
   "mimetype": "text/x-python",
   "name": "python",
   "nbconvert_exporter": "python",
   "pygments_lexer": "ipython3",
   "version": "3.6.10"
  },
  "toc": {
   "base_numbering": 1,
   "nav_menu": {},
   "number_sections": true,
   "sideBar": true,
   "skip_h1_title": false,
   "title_cell": "Table of Contents",
   "title_sidebar": "Contents",
   "toc_cell": false,
   "toc_position": {},
   "toc_section_display": true,
   "toc_window_display": false
  },
  "varInspector": {
   "cols": {
    "lenName": 16,
    "lenType": 16,
    "lenVar": 40
   },
   "kernels_config": {
    "python": {
     "delete_cmd_postfix": "",
     "delete_cmd_prefix": "del ",
     "library": "var_list.py",
     "varRefreshCmd": "print(var_dic_list())"
    },
    "r": {
     "delete_cmd_postfix": ") ",
     "delete_cmd_prefix": "rm(",
     "library": "var_list.r",
     "varRefreshCmd": "cat(var_dic_list()) "
    }
   },
   "types_to_exclude": [
    "module",
    "function",
    "builtin_function_or_method",
    "instance",
    "_Feature"
   ],
   "window_display": false
  }
 },
 "nbformat": 4,
 "nbformat_minor": 4
}
