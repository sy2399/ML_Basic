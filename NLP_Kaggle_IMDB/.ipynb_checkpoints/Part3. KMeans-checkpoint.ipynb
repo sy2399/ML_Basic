{
 "cells": [
  {
   "cell_type": "markdown",
   "metadata": {},
   "source": [
    "# Part3 overview\n",
    "\n",
    "**Part2**\n",
    "- W2V 로 텍스트를 벡터화\n",
    "- 벡터화된 텍스트의 평균으로 모델을 학습\n",
    "\n",
    "***\n",
    "\n",
    "**Part3, 4 : K-means**\n",
    "- Word2Vec은 의미가 관련있는 단어들의 클러스터를 생성하기 때문에 클러스터 내의 단어 유사성을 이용하는 것이다.\n",
    "- 이런식으로 벡터를 그룹화 하는 것을 ***\"vector quantization(벡터 양자화)\"***라고 한다.\n",
    "- 이를 위해서는 K-means와 같은 클러스터링 알고리즘을 사용하여 클러스터라는 단어의 중심을 찾아야 한다.\n",
    "- 비지도학습인 K-means를 통해 클러스터링을 하고 지도학습인 랜덤포레스트로 리뷰가 추천인지 아닌지를 예측한다.\n"
   ]
  },
  {
   "cell_type": "code",
   "execution_count": 1,
   "metadata": {
    "ExecuteTime": {
     "end_time": "2020-05-25T06:54:44.957362Z",
     "start_time": "2020-05-25T06:54:40.097738Z"
    }
   },
   "outputs": [],
   "source": [
    "import pandas as pd\n",
    "import numpy as np\n",
    "from gensim.models import Word2Vec\n",
    "from sklearn.cluster import KMeans\n",
    "from sklearn.ensemble import RandomForestClassifier\n",
    "\n",
    "from bs4 import BeautifulSoup\n",
    "import re\n",
    "import time\n",
    "\n",
    "from nltk.corpus import stopwords\n",
    "import nltk.data\n",
    "\n",
    "import matplotlib.pyplot as plt\n",
    "import seaborn as sns\n",
    "%matplotlib inline"
   ]
  },
  {
   "cell_type": "code",
   "execution_count": 6,
   "metadata": {
    "ExecuteTime": {
     "end_time": "2020-05-25T07:11:40.012399Z",
     "start_time": "2020-05-25T07:05:46.547562Z"
    },
    "collapsed": true
   },
   "outputs": [
    {
     "name": "stdout",
     "output_type": "stream",
     "text": [
      "Collecting gensim==3.2.0\n",
      "  Downloading gensim-3.2.0-cp36-cp36m-macosx_10_6_intel.macosx_10_9_intel.macosx_10_9_x86_64.macosx_10_10_intel.macosx_10_10_x86_64.whl (15.7 MB)\n",
      "\u001b[K     |████████████████████████████████| 15.7 MB 91 kB/s eta 0:00:011\n",
      "\u001b[?25hRequirement already satisfied, skipping upgrade: scipy>=0.18.1 in /Users/imsoyoung/opt/anaconda3/envs/nlp/lib/python3.6/site-packages (from gensim==3.2.0) (1.4.1)\n",
      "Requirement already satisfied, skipping upgrade: numpy>=1.11.3 in /Users/imsoyoung/opt/anaconda3/envs/nlp/lib/python3.6/site-packages (from gensim==3.2.0) (1.18.1)\n",
      "Requirement already satisfied, skipping upgrade: smart-open>=1.2.1 in /Users/imsoyoung/opt/anaconda3/envs/nlp/lib/python3.6/site-packages (from gensim==3.2.0) (2.0.0)\n",
      "Requirement already satisfied, skipping upgrade: six>=1.5.0 in /Users/imsoyoung/opt/anaconda3/envs/nlp/lib/python3.6/site-packages (from gensim==3.2.0) (1.14.0)\n",
      "Requirement already satisfied, skipping upgrade: requests in /Users/imsoyoung/opt/anaconda3/envs/nlp/lib/python3.6/site-packages (from smart-open>=1.2.1->gensim==3.2.0) (2.23.0)\n",
      "Requirement already satisfied, skipping upgrade: boto in /Users/imsoyoung/opt/anaconda3/envs/nlp/lib/python3.6/site-packages (from smart-open>=1.2.1->gensim==3.2.0) (2.49.0)\n",
      "Requirement already satisfied, skipping upgrade: boto3 in /Users/imsoyoung/opt/anaconda3/envs/nlp/lib/python3.6/site-packages (from smart-open>=1.2.1->gensim==3.2.0) (1.13.11)\n",
      "Requirement already satisfied, skipping upgrade: certifi>=2017.4.17 in /Users/imsoyoung/opt/anaconda3/envs/nlp/lib/python3.6/site-packages (from requests->smart-open>=1.2.1->gensim==3.2.0) (2020.4.5.1)\n",
      "Requirement already satisfied, skipping upgrade: chardet<4,>=3.0.2 in /Users/imsoyoung/opt/anaconda3/envs/nlp/lib/python3.6/site-packages (from requests->smart-open>=1.2.1->gensim==3.2.0) (3.0.4)\n",
      "Requirement already satisfied, skipping upgrade: urllib3!=1.25.0,!=1.25.1,<1.26,>=1.21.1 in /Users/imsoyoung/opt/anaconda3/envs/nlp/lib/python3.6/site-packages (from requests->smart-open>=1.2.1->gensim==3.2.0) (1.25.9)\n",
      "Requirement already satisfied, skipping upgrade: idna<3,>=2.5 in /Users/imsoyoung/opt/anaconda3/envs/nlp/lib/python3.6/site-packages (from requests->smart-open>=1.2.1->gensim==3.2.0) (2.9)\n",
      "Requirement already satisfied, skipping upgrade: jmespath<1.0.0,>=0.7.1 in /Users/imsoyoung/opt/anaconda3/envs/nlp/lib/python3.6/site-packages (from boto3->smart-open>=1.2.1->gensim==3.2.0) (0.10.0)\n",
      "Requirement already satisfied, skipping upgrade: s3transfer<0.4.0,>=0.3.0 in /Users/imsoyoung/opt/anaconda3/envs/nlp/lib/python3.6/site-packages (from boto3->smart-open>=1.2.1->gensim==3.2.0) (0.3.3)\n",
      "Requirement already satisfied, skipping upgrade: botocore<1.17.0,>=1.16.11 in /Users/imsoyoung/opt/anaconda3/envs/nlp/lib/python3.6/site-packages (from boto3->smart-open>=1.2.1->gensim==3.2.0) (1.16.11)\n",
      "Requirement already satisfied, skipping upgrade: docutils<0.16,>=0.10 in /Users/imsoyoung/opt/anaconda3/envs/nlp/lib/python3.6/site-packages (from botocore<1.17.0,>=1.16.11->boto3->smart-open>=1.2.1->gensim==3.2.0) (0.15.2)\n",
      "Requirement already satisfied, skipping upgrade: python-dateutil<3.0.0,>=2.1 in /Users/imsoyoung/opt/anaconda3/envs/nlp/lib/python3.6/site-packages (from botocore<1.17.0,>=1.16.11->boto3->smart-open>=1.2.1->gensim==3.2.0) (2.8.1)\n",
      "Installing collected packages: gensim\n",
      "  Attempting uninstall: gensim\n",
      "    Found existing installation: gensim 3.8.3\n",
      "    Uninstalling gensim-3.8.3:\n",
      "      Successfully uninstalled gensim-3.8.3\n",
      "Successfully installed gensim-3.2.0\n"
     ]
    },
    {
     "data": {
      "text/plain": [
       "'3.8.3'"
      ]
     },
     "execution_count": 6,
     "metadata": {},
     "output_type": "execute_result"
    }
   ],
   "source": [
    "# 최근버전에서 pickle을 로드하지 못 하는 문제로 이전 버전을 사용합니다.\n",
    "!pip install --upgrade gensim==3.2.0\n",
    "import gensim\n",
    "gensim.__version__"
   ]
  },
  {
   "cell_type": "code",
   "execution_count": 5,
   "metadata": {
    "ExecuteTime": {
     "end_time": "2020-05-25T07:05:36.485005Z",
     "start_time": "2020-05-25T07:05:36.139770Z"
    }
   },
   "outputs": [
    {
     "data": {
      "text/plain": [
       "<gensim.models.word2vec.Word2Vec at 0x12a1cbc18>"
      ]
     },
     "execution_count": 5,
     "metadata": {},
     "output_type": "execute_result"
    }
   ],
   "source": [
    "#Part2 에서 생성한 W2V 모델 가져오기\n",
    "\n",
    "model = Word2Vec.load('data/p2_300features_40minwords_10text')\n",
    "model"
   ]
  },
  {
   "cell_type": "code",
   "execution_count": 7,
   "metadata": {
    "ExecuteTime": {
     "end_time": "2020-05-25T07:11:52.135816Z",
     "start_time": "2020-05-25T07:11:52.122325Z"
    }
   },
   "outputs": [
    {
     "name": "stderr",
     "output_type": "stream",
     "text": [
      "/Users/imsoyoung/opt/anaconda3/envs/nlp/lib/python3.6/site-packages/ipykernel_launcher.py:6: DeprecationWarning: Call to deprecated `syn0` (Attribute will be removed in 4.0.0, use self.vectors instead).\n",
      "  \n"
     ]
    },
    {
     "data": {
      "text/plain": [
       "numpy.ndarray"
      ]
     },
     "execution_count": 7,
     "metadata": {},
     "output_type": "execute_result"
    }
   ],
   "source": [
    "# 숫자로 단어를 표현\n",
    "# Word2Vec 모델은 어휘의 각 단어에 대한 feature 벡터로 구성되며 \n",
    "# 'syn0'이라는 넘파이 배열로 저장된다.\n",
    "# syn0의 행 수는 모델 어휘의 단어 수\n",
    "# 컬럼 수는 2 부에서 설정 한 피처 벡터의 크기\n",
    "type(model.wv.syn0)"
   ]
  },
  {
   "cell_type": "code",
   "execution_count": 8,
   "metadata": {
    "ExecuteTime": {
     "end_time": "2020-05-25T07:11:53.604086Z",
     "start_time": "2020-05-25T07:11:53.594443Z"
    }
   },
   "outputs": [
    {
     "name": "stderr",
     "output_type": "stream",
     "text": [
      "/Users/imsoyoung/opt/anaconda3/envs/nlp/lib/python3.6/site-packages/ipykernel_launcher.py:3: DeprecationWarning: Call to deprecated `syn0` (Attribute will be removed in 4.0.0, use self.vectors instead).\n",
      "  This is separate from the ipykernel package so we can avoid doing imports until\n"
     ]
    },
    {
     "data": {
      "text/plain": [
       "(11986, 300)"
      ]
     },
     "execution_count": 8,
     "metadata": {},
     "output_type": "execute_result"
    }
   ],
   "source": [
    "# syn0의 행 수는 모델 어휘의 단어 수\n",
    "# 열 수는 2부에서 설정한 특징 벡터의 크기\n",
    "model.wv.syn0.shape"
   ]
  },
  {
   "cell_type": "code",
   "execution_count": 9,
   "metadata": {
    "ExecuteTime": {
     "end_time": "2020-05-25T07:11:53.807574Z",
     "start_time": "2020-05-25T07:11:53.793249Z"
    }
   },
   "outputs": [
    {
     "data": {
      "text/plain": [
       "(300,)"
      ]
     },
     "execution_count": 9,
     "metadata": {},
     "output_type": "execute_result"
    }
   ],
   "source": [
    "# 개별 단어 벡터 접근\n",
    "model.wv['flower'].shape"
   ]
  },
  {
   "cell_type": "code",
   "execution_count": 10,
   "metadata": {
    "ExecuteTime": {
     "end_time": "2020-05-25T07:11:54.008824Z",
     "start_time": "2020-05-25T07:11:54.003327Z"
    }
   },
   "outputs": [
    {
     "data": {
      "text/plain": [
       "array([-0.00346556, -0.05215169,  0.12527946,  0.0586987 , -0.01458255,\n",
       "       -0.06069919, -0.07068845,  0.00978562,  0.07107766,  0.03026973],\n",
       "      dtype=float32)"
      ]
     },
     "execution_count": 10,
     "metadata": {},
     "output_type": "execute_result"
    }
   ],
   "source": [
    "model.wv['flower'][:10]"
   ]
  },
  {
   "cell_type": "markdown",
   "metadata": {},
   "source": [
    "# K-means (K평균)클러스터링으로 데이터 묶기\n",
    "\n",
    "\n",
    "- 클러스터링은 비지도 학습 기법\n",
    "\n",
    "- 클러스터링은 유사성 등 개념에 기초해 몇몇 그룹으로 분류하는 기법\n",
    "    - k-평균 알고리즘은 각 그룹의 중심 (centroid)과 그룹 내의 데이터 오브젝트와의 거리의 제곱합을 비용 함수로 정하고, 이 함수값을 최소화하는 방향으로 각 데이터 오브젝트의 소속 그룹을 업데이트 해 줌으로써 클러스터링을 수행하게 된다.\n",
    "- 클러스터링의 목적은 샘플(실수로 구성된 n차원의 벡터)을 내부적으로는 비슷하지만 외부적으로 공통 분모가 없는 여러 그룹으로 묶는 것\n",
    "\n",
    "- 특정 차원의 범위가 다른 차원과 차이가 크면 클러스터링 하기 전에 스케일을 조정해야 한다.\n",
    "    \n",
    "    1. 최초 센트로이드(centroid)(중심점)로 k개의 벡터를 무작위로 선정한다.\n",
    "    1. 각 샘플을 그 위치에서 가장 가까운 센트로이드에 할당한다.\n",
    "    2. 센트로이드의 위치를 재계산한다.\n",
    "    3. 센트로이드가 더 이상 움직이지 않을 때까지 2와 3을 반복한다.\n"
   ]
  },
  {
   "cell_type": "code",
   "execution_count": 11,
   "metadata": {
    "ExecuteTime": {
     "end_time": "2020-05-25T07:26:02.587421Z",
     "start_time": "2020-05-25T07:20:29.243442Z"
    },
    "collapsed": true
   },
   "outputs": [
    {
     "name": "stderr",
     "output_type": "stream",
     "text": [
      "/Users/imsoyoung/opt/anaconda3/envs/nlp/lib/python3.6/site-packages/ipykernel_launcher.py:5: DeprecationWarning: Call to deprecated `syn0` (Attribute will be removed in 4.0.0, use self.vectors instead).\n",
      "  \"\"\"\n"
     ]
    },
    {
     "name": "stdout",
     "output_type": "stream",
     "text": [
      "word vector 크기 :  [[ 0.11983929 -0.02342258  0.04731163 ...  0.02961553  0.02386953\n",
      "  -0.09445047]\n",
      " [ 0.08077206 -0.0585217  -0.14190693 ...  0.03649141 -0.08107349\n",
      "  -0.05303244]\n",
      " [ 0.11228116  0.01952213 -0.04061056 ...  0.04877587  0.03191681\n",
      "  -0.00284379]\n",
      " ...\n",
      " [ 0.01879433 -0.00809056 -0.00708611 ... -0.00883724 -0.01693649\n",
      "   0.07367954]\n",
      " [ 0.12806582 -0.08591564  0.0662314  ...  0.02696301 -0.01118639\n",
      "   0.07565481]\n",
      " [ 0.07354966  0.02504544 -0.10577744 ...  0.02008389 -0.03230089\n",
      "   0.00093223]]\n",
      "Cluster 크기 :  2397\n",
      "Time taken for K Means clustering:  333.33790731430054 seconds.\n"
     ]
    }
   ],
   "source": [
    "# 단어 벡터에서 k-means를 실행하고 일부 클러스터를 찍어본다.\n",
    "start = time.time() # 시작시간\n",
    "\n",
    "# 클러스터의 크기 \"k\"를 어휘 크기의 1/5 이나 평균 5단어로 설정한다.\n",
    "word_vectors = model.wv.syn0 # 어휘의 feature vector\n",
    "num_clusters = word_vectors.shape[0] / 5\n",
    "num_clusters = int(num_clusters)\n",
    "\n",
    "print(\"word vector 크기 : \", word_vectors)\n",
    "print(\"Cluster 크기 : \", num_clusters)\n",
    "\n",
    "\n",
    "# K means 를 정의하고 학습시킨다.\n",
    "kmeans_clustering = KMeans( n_clusters = num_clusters )\n",
    "idx = kmeans_clustering.fit_predict( word_vectors )\n",
    "\n",
    "# 끝난시간에서 시작시간을 빼서 걸린 시간을 구한다.\n",
    "end = time.time()\n",
    "elapsed = end - start\n",
    "print(\"Time taken for K Means clustering: \", elapsed, \"seconds.\")\n"
   ]
  },
  {
   "cell_type": "code",
   "execution_count": 22,
   "metadata": {
    "ExecuteTime": {
     "end_time": "2020-05-25T07:32:26.522106Z",
     "start_time": "2020-05-25T07:32:26.515420Z"
    }
   },
   "outputs": [],
   "source": [
    "# 각 어휘 단어를 클러스터 번호에 매핑되게 word/Index 사전을 만든다.\n",
    "idx = list(idx)\n",
    "names = model.wv.index2word\n",
    "word_centroid_map = {names[i]: idx[i] for i in range(len(names))}\n",
    "# word_centroid_map = dict(zip( model.wv.index2word, idx ))\n",
    "\n",
    "# print(word_centroid_map)"
   ]
  },
  {
   "cell_type": "code",
   "execution_count": 23,
   "metadata": {
    "ExecuteTime": {
     "end_time": "2020-05-25T07:32:37.372901Z",
     "start_time": "2020-05-25T07:32:28.058730Z"
    },
    "scrolled": true
   },
   "outputs": [
    {
     "name": "stdout",
     "output_type": "stream",
     "text": [
      "\n",
      "Cluster 0\n",
      "['det', 'yike', 'ouch', 'matteo']\n",
      "\n",
      "Cluster 1\n",
      "['espionag']\n",
      "\n",
      "Cluster 2\n",
      "['area', 'south', 'north', 'california', 'east', 'mexico', 'ireland', 'eastern', 'northern', 'arizona', 'thailand', 'iceland', 'utah', 'massachusett', 'southwest', 'crust', 'pragu']\n",
      "\n",
      "Cluster 3\n",
      "['virus', 'radiat', 'genet', 'mutat', 'fiend', 'dna', 'parasit', 'cadav']\n",
      "\n",
      "Cluster 4\n",
      "['dire', 'tepid', 'underwhelm', 'unsurpris', 'lacklustr', 'buildup', 'unfathom', 'egregi', 'perfunctori', 'risibl']\n",
      "\n",
      "Cluster 5\n",
      "['carlo', 'untouch', 'bruno', 'fernando', 'pedro', 'cypher', 'lelouch', 'krishna', 'maestro', 'iglesia', 'luigi', 'vittorio', 'luciano', 'karan', 'alberto']\n",
      "\n",
      "Cluster 6\n",
      "['clutch', 'hitchhik', 'accomplic', 'unlucki', 'paralyz', 'enrag', 'assail', 'alibi', 'execution', 'anc', 'doppelgang', 'instig', 'rescuer']\n",
      "\n",
      "Cluster 7\n",
      "['slap', 'bash', 'smack']\n",
      "\n",
      "Cluster 8\n",
      "['lane', 'foster', 'dian', 'cindi', 'conni', 'sabrina', 'kiki']\n",
      "\n",
      "Cluster 9\n",
      "['consid']\n"
     ]
    }
   ],
   "source": [
    "# 첫번째 클러스터의 처음 10개를 출력\n",
    "for cluster in range(0,10):\n",
    "    # 클러스터 번호를 출력\n",
    "    print(\"\\nCluster {}\".format(cluster))\n",
    "    \n",
    "    # 클러스터번호와 클러스터에 있는 단어를 찍는다.\n",
    "    words = []\n",
    "    for i in range(0,len(list(word_centroid_map.values()))):\n",
    "        if( list(word_centroid_map.values())[i] == cluster ):\n",
    "            words.append(list(word_centroid_map.keys())[i])\n",
    "    print(words)"
   ]
  },
  {
   "cell_type": "code",
   "execution_count": 13,
   "metadata": {
    "ExecuteTime": {
     "end_time": "2020-05-25T07:27:19.427087Z",
     "start_time": "2020-05-25T07:27:18.772988Z"
    }
   },
   "outputs": [],
   "source": [
    "\"\"\"\n",
    "판다스로 데이터프레임 형태의 데이터로 읽어온다.\n",
    "QUOTE_MINIMAL (0), QUOTE_ALL (1), \n",
    "QUOTE_NONNUMERIC (2) or QUOTE_NONE (3).\n",
    "\n",
    "그리고 이전 튜토리얼에서 했던 것처럼 clean_train_reviews 와 \n",
    "clean_test_reviews 로 텍스트를 정제한다.\n",
    "\"\"\"\n",
    "# 레이블인 sentiment 가 있는 학습 데이터\n",
    "train = pd.read_csv('data/word2vec-nlp-tutorial/labeledTrainData.tsv', delimiter='\\t', quoting=3)\n",
    "# 레이블이 없는 테스트 데이터\n",
    "test = pd.read_csv('data/word2vec-nlp-tutorial/testData.tsv', delimiter='\\t', quoting=3)\n",
    "\n",
    "# unlabeled_train = pd.read_csv('data/word2vec-nlp-tutorial/unlabeledTrainData.tsv',header=0, delimiter='\\t', quoting=3)\n"
   ]
  },
  {
   "cell_type": "code",
   "execution_count": 14,
   "metadata": {
    "ExecuteTime": {
     "end_time": "2020-05-25T07:27:20.077842Z",
     "start_time": "2020-05-25T07:27:20.067988Z"
    }
   },
   "outputs": [],
   "source": [
    "from KaggleWord2VecUtility import KaggleWord2VecUtility\n",
    "import nltk\n"
   ]
  },
  {
   "cell_type": "code",
   "execution_count": 15,
   "metadata": {
    "ExecuteTime": {
     "end_time": "2020-05-25T07:28:20.647447Z",
     "start_time": "2020-05-25T07:27:20.834665Z"
    }
   },
   "outputs": [],
   "source": [
    "from KaggleWord2VecUtility import KaggleWord2VecUtility\n",
    "# 학습 리뷰를 정제한다.\n",
    "clean_train_reviews = []\n",
    "for review in train[\"review\"]:\n",
    "    clean_train_reviews.append(\n",
    "        KaggleWord2VecUtility.review_to_wordlist( review, \\\n",
    "        remove_stopwords=True ))"
   ]
  },
  {
   "cell_type": "code",
   "execution_count": 16,
   "metadata": {
    "ExecuteTime": {
     "end_time": "2020-05-25T07:29:34.396471Z",
     "start_time": "2020-05-25T07:28:34.762346Z"
    }
   },
   "outputs": [],
   "source": [
    "# 테스트 리뷰를 정제한다.\n",
    "clean_test_reviews = []\n",
    "for review in test[\"review\"]:\n",
    "    clean_test_reviews.append(\n",
    "        KaggleWord2VecUtility.review_to_wordlist( review, \\\n",
    "        remove_stopwords=True ))"
   ]
  },
  {
   "cell_type": "markdown",
   "metadata": {},
   "source": [
    "bags of centroids 생성"
   ]
  },
  {
   "cell_type": "code",
   "execution_count": 17,
   "metadata": {
    "ExecuteTime": {
     "end_time": "2020-05-25T07:29:38.084873Z",
     "start_time": "2020-05-25T07:29:38.079453Z"
    }
   },
   "outputs": [
    {
     "data": {
      "text/plain": [
       "array([[0., 0., 0., ..., 0., 0., 0.],\n",
       "       [0., 0., 0., ..., 0., 0., 0.],\n",
       "       [0., 0., 0., ..., 0., 0., 0.],\n",
       "       [0., 0., 0., ..., 0., 0., 0.],\n",
       "       [0., 0., 0., ..., 0., 0., 0.]], dtype=float32)"
      ]
     },
     "execution_count": 17,
     "metadata": {},
     "output_type": "execute_result"
    }
   ],
   "source": [
    "\n",
    "# 속도를 위해 centroid 학습 세트 bag을 미리 할당 한다.\n",
    "train_centroids = np.zeros((train[\"review\"].size, num_clusters), \\\n",
    "    dtype=\"float32\" )\n",
    "\n",
    "train_centroids[:5]"
   ]
  },
  {
   "cell_type": "code",
   "execution_count": 24,
   "metadata": {
    "ExecuteTime": {
     "end_time": "2020-05-25T07:32:39.082731Z",
     "start_time": "2020-05-25T07:32:39.077421Z"
    }
   },
   "outputs": [],
   "source": [
    "# centroid 는 두 클러스터의 중심점을 정의 한 다음 중심점의 거리를 측정한 것\n",
    "def create_bag_of_centroids( wordlist, word_centroid_map ):\n",
    "    \n",
    "    # 클러스터의 수는 word / centroid map에서 가장 높은 클러스트 인덱스와 같다.\n",
    "    num_centroids = max( word_centroid_map.values() ) + 1\n",
    "    \n",
    "    # 속도를 위해 bag of centroids vector를 미리 할당한다.\n",
    "    bag_of_centroids = np.zeros( num_centroids, dtype=\"float32\" )\n",
    "    \n",
    "    # 루프를 돌며 단어가 word_centroid_map에 있다면\n",
    "    # 해당되는 클러스터의 수를 하나씩 증가시켜 준다.\n",
    "    for word in wordlist:\n",
    "        if word in word_centroid_map:\n",
    "            index = word_centroid_map[word]\n",
    "            bag_of_centroids[index] += 1\n",
    "    \n",
    "    # bag of centroids를 반환한다.\n",
    "    return bag_of_centroids"
   ]
  },
  {
   "cell_type": "code",
   "execution_count": null,
   "metadata": {
    "ExecuteTime": {
     "start_time": "2020-05-25T07:33:36.505Z"
    }
   },
   "outputs": [],
   "source": [
    "# 학습 리뷰를 bags of centroids 로 변환한다.\n",
    "counter = 0\n",
    "for review in clean_train_reviews:\n",
    "    train_centroids[counter] = create_bag_of_centroids( review, \\\n",
    "        word_centroid_map )\n",
    "    counter += 1\n",
    "\n",
    "# 테스트 리뷰도 같은 방법으로 반복해 준다.\n",
    "test_centroids = np.zeros(( test[\"review\"].size, num_clusters), \\\n",
    "    dtype=\"float32\" )\n",
    "\n",
    "counter = 0\n",
    "for review in clean_test_reviews:\n",
    "    test_centroids[counter] = create_bag_of_centroids( review, \\\n",
    "        word_centroid_map )\n",
    "    counter += 1\n",
    "\n",
    "\n"
   ]
  },
  {
   "cell_type": "code",
   "execution_count": null,
   "metadata": {},
   "outputs": [],
   "source": [
    "forest = RandomForestClassifier(n_estimators = 100)\n",
    "\n",
    "# train 데이터의 레이블을 통해 학습시키고 예측한다.\n",
    "# 시간이 좀 소요되기 때문에 %time을 통해 걸린 시간을 찍도록 함\n",
    "print(\"Fitting a random forest to labeled training data...\")\n",
    "%time forest = forest.fit(train_centroids, train[\"sentiment\"])"
   ]
  },
  {
   "cell_type": "code",
   "execution_count": null,
   "metadata": {},
   "outputs": [],
   "source": [
    "from sklearn.model_selection import cross_val_score\n",
    "%time score = np.mean(cross_val_score(\\\n",
    "    forest, train_centroids, train['sentiment'], cv=10,\\\n",
    "    scoring='roc_auc'))"
   ]
  },
  {
   "cell_type": "code",
   "execution_count": null,
   "metadata": {},
   "outputs": [],
   "source": [
    "%time result = forest.predict(test_centroids)"
   ]
  },
  {
   "cell_type": "code",
   "execution_count": null,
   "metadata": {},
   "outputs": [],
   "source": [
    "score"
   ]
  },
  {
   "cell_type": "code",
   "execution_count": null,
   "metadata": {},
   "outputs": [],
   "source": [
    "# 결과를 csv로 저장\n",
    "output = pd.DataFrame(data={\"id\":test[\"id\"], \"sentiment\":result})\n",
    "output.to_csv(\"result/part2_submit_BagOfCentroids_{0:.5f}.csv\".format(score), index=False, quoting=3)"
   ]
  },
  {
   "cell_type": "code",
   "execution_count": null,
   "metadata": {},
   "outputs": [],
   "source": [
    "fig, axes = plt.subplots(ncols=2)\n",
    "fig.set_size_inches(12,5)\n",
    "sns.countplot(train['sentiment'], ax=axes[0])\n",
    "sns.countplot(output['sentiment'], ax=axes[1])"
   ]
  },
  {
   "cell_type": "code",
   "execution_count": null,
   "metadata": {},
   "outputs": [],
   "source": [
    "output_sentiment = output['sentiment'].value_counts()\n",
    "output_sentiment"
   ]
  },
  {
   "cell_type": "code",
   "execution_count": null,
   "metadata": {},
   "outputs": [],
   "source": [
    "output_sentiment = output['sentiment'].value_counts()\n",
    "print(output_sentiment[0] - output_sentiment[1])\n",
    "output_sentiment"
   ]
  },
  {
   "cell_type": "code",
   "execution_count": null,
   "metadata": {},
   "outputs": [],
   "source": [
    "# 캐글 점수 0.84908\n",
    "print(330/528)"
   ]
  },
  {
   "cell_type": "markdown",
   "metadata": {},
   "source": [
    "# 왜 이 튜토리얼에서는 Bag of Words가 더 좋은 결과를 가져올까?\n",
    "\n",
    "벡터를 평균화하고 centroids를 사용하면 단어 순서가 어긋나며 Bag of Words 개념과 매우 비슷하다. 성능이 (표준 오차의 범위 내에서) 비슷하기 때문에 튜토리얼 1, 2, 3이 동등한 결과를 가져온다.\n",
    "\n",
    "첫째, Word2Vec을 더 많은 텍스트로 학습시키면 성능이 좋아진다. Google의 결과는 10 억 단어가 넘는 코퍼스에서 배운 단어 벡터를 기반으로 한다. 학습 레이블이 있거나 레이블이 없는 학습 세트는 단지 대략 천팔백만 단어 정도다. 편의상 Word2Vec은 Google의 원래 C도구에서 출력되는 사전 학습 된 모델을 로드하는 기능을 제공하기 때문에 C로 모델을 학습 한 다음 Python으로 가져올 수도 있다.\n",
    "\n",
    "둘째, 출판 된 자료들에서 분산 워드 벡터 기술은 Bag of Words 모델보다 우수한 것으로 나타났다. 이 논문에서는 IMDB 데이터 집합에 단락 벡터 (Paragraph Vector)라는 알고리즘을 사용하여 현재까지의 최첨단 결과 중 일부를 생성한다. 단락 벡터는 단어 순서 정보를 보존하는 반면 벡터 평균화 및 클러스터링은 단어 순서를 잃어 버리기 때문에 여기에서 시도하는 방식보다 부분적으로 더 좋다.\n",
    "\n",
    "더 공부하기 : 스탠포드 NLP 강의 : Lecture 1 | [Natural Language Processing with Deep Learning - YouTube](https://www.youtube.com/watch?v=OQQ-W_63UgQ&list=PL3FW7Lu3i5Jsnh1rnUwq_TcylNr7EkRe6)"
   ]
  },
  {
   "cell_type": "code",
   "execution_count": null,
   "metadata": {},
   "outputs": [],
   "source": []
  }
 ],
 "metadata": {
  "kernelspec": {
   "display_name": "Python 3",
   "language": "python",
   "name": "python3"
  },
  "language_info": {
   "codemirror_mode": {
    "name": "ipython",
    "version": 3
   },
   "file_extension": ".py",
   "mimetype": "text/x-python",
   "name": "python",
   "nbconvert_exporter": "python",
   "pygments_lexer": "ipython3",
   "version": "3.6.10"
  },
  "toc": {
   "base_numbering": 1,
   "nav_menu": {},
   "number_sections": true,
   "sideBar": true,
   "skip_h1_title": false,
   "title_cell": "Table of Contents",
   "title_sidebar": "Contents",
   "toc_cell": false,
   "toc_position": {},
   "toc_section_display": true,
   "toc_window_display": false
  },
  "varInspector": {
   "cols": {
    "lenName": 16,
    "lenType": 16,
    "lenVar": 40
   },
   "kernels_config": {
    "python": {
     "delete_cmd_postfix": "",
     "delete_cmd_prefix": "del ",
     "library": "var_list.py",
     "varRefreshCmd": "print(var_dic_list())"
    },
    "r": {
     "delete_cmd_postfix": ") ",
     "delete_cmd_prefix": "rm(",
     "library": "var_list.r",
     "varRefreshCmd": "cat(var_dic_list()) "
    }
   },
   "types_to_exclude": [
    "module",
    "function",
    "builtin_function_or_method",
    "instance",
    "_Feature"
   ],
   "window_display": false
  }
 },
 "nbformat": 4,
 "nbformat_minor": 4
}
