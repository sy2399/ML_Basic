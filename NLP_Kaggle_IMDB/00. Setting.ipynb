{
 "cells": [
  {
   "cell_type": "code",
   "execution_count": 9,
   "metadata": {
    "ExecuteTime": {
     "end_time": "2020-03-23T11:10:49.631298Z",
     "start_time": "2020-03-23T11:10:49.626442Z"
    }
   },
   "outputs": [
    {
     "name": "stdout",
     "output_type": "stream",
     "text": [
      "system : Darwin \n",
      "mac_ver : ('10.15.3', ('', '', ''), 'x86_64')\n"
     ]
    }
   ],
   "source": [
    "## MAC OSX 버전\n",
    "import platform\n",
    "import sys\n",
    "print(\"\"\"system : %s \\ nmac_ver : %s\"\"\"% (platform.system(), platform.mac_ver()))\n",
    "\n"
   ]
  },
  {
   "cell_type": "markdown",
   "metadata": {},
   "source": [
    "## Anaconda, Colab"
   ]
  },
  {
   "cell_type": "code",
   "execution_count": 4,
   "metadata": {
    "ExecuteTime": {
     "end_time": "2020-03-20T07:39:48.423836Z",
     "start_time": "2020-03-20T07:39:48.420598Z"
    }
   },
   "outputs": [],
   "source": [
    "# !conda update -n base conda\n",
    "# !conda update --all"
   ]
  },
  {
   "cell_type": "markdown",
   "metadata": {},
   "source": [
    "# Framework, library\n",
    "\n",
    "- Tensorflow\n",
    "- Kera\n",
    "- Gensim\n",
    "- scikit-learn"
   ]
  },
  {
   "cell_type": "code",
   "execution_count": 8,
   "metadata": {
    "ExecuteTime": {
     "end_time": "2020-03-23T08:14:39.494791Z",
     "start_time": "2020-03-23T08:14:39.492013Z"
    }
   },
   "outputs": [],
   "source": [
    "# !pip install tensorflow, keras, sklearn, gensim"
   ]
  },
  {
   "cell_type": "code",
   "execution_count": 1,
   "metadata": {
    "ExecuteTime": {
     "end_time": "2020-03-23T11:08:53.845290Z",
     "start_time": "2020-03-23T11:08:48.012660Z"
    }
   },
   "outputs": [
    {
     "name": "stderr",
     "output_type": "stream",
     "text": [
      "Using TensorFlow backend.\n"
     ]
    },
    {
     "name": "stdout",
     "output_type": "stream",
     "text": [
      "tf 2.1.0\n",
      "keras 2.3.1\n",
      "scikit-learn 0.22.2.post1\n",
      "Gensim 3.8.1\n"
     ]
    }
   ],
   "source": [
    "import tensorflow as tf\n",
    "import keras\n",
    "import sklearn\n",
    "import gensim\n",
    "\n",
    "print(\"tf\", tf.__version__)\n",
    "print(\"keras\", keras.__version__)\n",
    "print(\"scikit-learn\", sklearn.__version__)\n",
    "print(\"Gensim\", gensim.__version__)"
   ]
  },
  {
   "cell_type": "markdown",
   "metadata": {},
   "source": [
    "cf : https://wikidocs.net/22488\n",
    "\n",
    "- NLTK, NLTK Data : 자연어 처리를 위한 파이썬 패키지\n",
    "\n",
    "*****\n",
    "- KoNLPy : 한국어 자연어 처리를 위한 형태소 분석기 패키지\n",
    "    - ***JDK1.8 (openjdk) 설치*** : https://findstar.pe.kr/2019/01/20/install-openjdk-by-homebrew/\n",
    "    - JDK\n",
    "    - JPype\n",
    "        - konlpy 설치시에 JPype1 어쩌구 에러 발생..(MAC 환경에서 macOS 가 stdlibc++ 를 제거하고 libc++ 로 대체하였다고 함!)\n",
    "        \n",
    "        - export MACOSX_DEPLOYMENT_TARGET=10.10 \n",
    "        - CFLAGS='-stdlib=libc++'pip install konlpy\n",
    "        - https://lsjsj92.tistory.com/561"
   ]
  },
  {
   "cell_type": "code",
   "execution_count": 12,
   "metadata": {
    "ExecuteTime": {
     "end_time": "2020-05-13T02:30:35.970425Z",
     "start_time": "2020-05-13T02:30:29.217897Z"
    }
   },
   "outputs": [
    {
     "name": "stdout",
     "output_type": "stream",
     "text": [
      "Collecting package metadata (current_repodata.json): done\n",
      "Solving environment: failed with initial frozen solve. Retrying with flexible solve.\n",
      "Solving environment: failed with repodata from current_repodata.json, will retry with next repodata source.\n",
      "Collecting package metadata (repodata.json): done\n",
      "Solving environment: done\n",
      "\n",
      "## Package Plan ##\n",
      "\n",
      "  environment location: /Users/imsoyoung/opt/anaconda3/envs/nlp\n",
      "\n",
      "  added / updated specs:\n",
      "    - nltk\n",
      "\n",
      "\n",
      "The following packages will be downloaded:\n",
      "\n",
      "    package                    |            build\n",
      "    ---------------------------|-----------------\n",
      "    nltk-3.3.0                 |           py35_0         1.6 MB\n",
      "    ------------------------------------------------------------\n",
      "                                           Total:         1.6 MB\n",
      "\n",
      "The following NEW packages will be INSTALLED:\n",
      "\n",
      "  nltk               pkgs/main/osx-64::nltk-3.3.0-py35_0\n",
      "  six                pkgs/main/osx-64::six-1.11.0-py35_1\n",
      "\n",
      "\n",
      "\n",
      "Downloading and Extracting Packages\n",
      "nltk-3.3.0           | 1.6 MB    | ##################################### | 100% \n",
      "Preparing transaction: done\n",
      "Verifying transaction: done\n",
      "Executing transaction: done\n"
     ]
    }
   ],
   "source": [
    "# !pip install --upgrade pip\n",
    "!conda install nltk -y"
   ]
  },
  {
   "cell_type": "code",
   "execution_count": 1,
   "metadata": {
    "ExecuteTime": {
     "end_time": "2020-10-14T07:01:30.541470Z",
     "start_time": "2020-10-14T07:01:28.514835Z"
    }
   },
   "outputs": [
    {
     "name": "stdout",
     "output_type": "stream",
     "text": [
      "nltk 3.4.5\n"
     ]
    }
   ],
   "source": [
    "import nltk\n",
    "# nltk.download()\n",
    "print(\"nltk\", nltk.__version__)"
   ]
  },
  {
   "cell_type": "code",
   "execution_count": 3,
   "metadata": {
    "ExecuteTime": {
     "end_time": "2020-10-14T07:04:00.482005Z",
     "start_time": "2020-10-14T07:01:38.924429Z"
    }
   },
   "outputs": [
    {
     "name": "stdout",
     "output_type": "stream",
     "text": [
      "Collecting konlpy\n",
      "  Downloading konlpy-0.5.2-py2.py3-none-any.whl (19.4 MB)\n",
      "\u001b[K     |████████████████████████████████| 19.4 MB 64 kB/s eta 0:00:012\n",
      "\u001b[?25hCollecting JPype1>=0.7.0\n",
      "  Downloading JPype1-1.0.2-cp36-cp36m-macosx_10_9_x86_64.whl (401 kB)\n",
      "\u001b[K     |████████████████████████████████| 401 kB 63 kB/s eta 0:00:01\n",
      "\u001b[?25hCollecting tweepy>=3.7.0\n",
      "  Downloading tweepy-3.9.0-py2.py3-none-any.whl (30 kB)\n",
      "Requirement already satisfied: numpy>=1.6 in /Users/imsoyoung/opt/anaconda3/envs/nlp/lib/python3.6/site-packages (from konlpy) (1.18.1)\n",
      "Requirement already satisfied: lxml>=4.1.0 in /Users/imsoyoung/opt/anaconda3/envs/nlp/lib/python3.6/site-packages (from konlpy) (4.5.0)\n",
      "Collecting beautifulsoup4==4.6.0\n",
      "  Downloading beautifulsoup4-4.6.0-py3-none-any.whl (86 kB)\n",
      "\u001b[K     |████████████████████████████████| 86 kB 144 kB/s eta 0:00:01\n",
      "\u001b[?25hCollecting colorama\n",
      "  Downloading colorama-0.4.4-py2.py3-none-any.whl (16 kB)\n",
      "Collecting typing-extensions; python_version < \"3.8\"\n",
      "  Downloading typing_extensions-3.7.4.3-py3-none-any.whl (22 kB)\n",
      "Requirement already satisfied: six>=1.10.0 in /Users/imsoyoung/opt/anaconda3/envs/nlp/lib/python3.6/site-packages (from tweepy>=3.7.0->konlpy) (1.14.0)\n",
      "Collecting requests-oauthlib>=0.7.0\n",
      "  Downloading requests_oauthlib-1.3.0-py2.py3-none-any.whl (23 kB)\n",
      "Requirement already satisfied: requests[socks]>=2.11.1 in /Users/imsoyoung/opt/anaconda3/envs/nlp/lib/python3.6/site-packages (from tweepy>=3.7.0->konlpy) (2.23.0)\n",
      "Collecting oauthlib>=3.0.0\n",
      "  Downloading oauthlib-3.1.0-py2.py3-none-any.whl (147 kB)\n",
      "\u001b[K     |████████████████████████████████| 147 kB 155 kB/s eta 0:00:01\n",
      "\u001b[?25hRequirement already satisfied: certifi>=2017.4.17 in /Users/imsoyoung/opt/anaconda3/envs/nlp/lib/python3.6/site-packages (from requests[socks]>=2.11.1->tweepy>=3.7.0->konlpy) (2020.4.5.1)\n",
      "Requirement already satisfied: chardet<4,>=3.0.2 in /Users/imsoyoung/opt/anaconda3/envs/nlp/lib/python3.6/site-packages (from requests[socks]>=2.11.1->tweepy>=3.7.0->konlpy) (3.0.4)\n",
      "Requirement already satisfied: urllib3!=1.25.0,!=1.25.1,<1.26,>=1.21.1 in /Users/imsoyoung/opt/anaconda3/envs/nlp/lib/python3.6/site-packages (from requests[socks]>=2.11.1->tweepy>=3.7.0->konlpy) (1.25.9)\n",
      "Requirement already satisfied: idna<3,>=2.5 in /Users/imsoyoung/opt/anaconda3/envs/nlp/lib/python3.6/site-packages (from requests[socks]>=2.11.1->tweepy>=3.7.0->konlpy) (2.9)\n",
      "Collecting PySocks!=1.5.7,>=1.5.6; extra == \"socks\"\n",
      "  Downloading PySocks-1.7.1-py3-none-any.whl (16 kB)\n",
      "Installing collected packages: typing-extensions, JPype1, oauthlib, requests-oauthlib, tweepy, beautifulsoup4, colorama, konlpy, PySocks\n",
      "  Attempting uninstall: beautifulsoup4\n",
      "    Found existing installation: beautifulsoup4 4.9.0\n",
      "    Uninstalling beautifulsoup4-4.9.0:\n",
      "      Successfully uninstalled beautifulsoup4-4.9.0\n",
      "Successfully installed JPype1-1.0.2 PySocks-1.7.1 beautifulsoup4-4.6.0 colorama-0.4.4 konlpy-0.5.2 oauthlib-3.1.0 requests-oauthlib-1.3.0 tweepy-3.9.0 typing-extensions-3.7.4.3\n",
      "\u001b[33mWARNING: You are using pip version 20.1.1; however, version 20.2.3 is available.\n",
      "You should consider upgrading via the '/Users/imsoyoung/opt/anaconda3/envs/nlp/bin/python -m pip install --upgrade pip' command.\u001b[0m\n"
     ]
    }
   ],
   "source": [
    "!pip install konlpy"
   ]
  },
  {
   "cell_type": "code",
   "execution_count": null,
   "metadata": {
    "ExecuteTime": {
     "start_time": "2020-10-14T07:07:14.232Z"
    }
   },
   "outputs": [],
   "source": [
    "import konlpy\n",
    "print(konlpy.__version__)"
   ]
  },
  {
   "cell_type": "code",
   "execution_count": null,
   "metadata": {},
   "outputs": [],
   "source": []
  }
 ],
 "metadata": {
  "hide_input": false,
  "kernelspec": {
   "display_name": "Python 3",
   "language": "python",
   "name": "python3"
  },
  "toc": {
   "base_numbering": 1,
   "nav_menu": {},
   "number_sections": true,
   "sideBar": true,
   "skip_h1_title": false,
   "title_cell": "Table of Contents",
   "title_sidebar": "Contents",
   "toc_cell": false,
   "toc_position": {},
   "toc_section_display": true,
   "toc_window_display": false
  },
  "varInspector": {
   "cols": {
    "lenName": 16,
    "lenType": 16,
    "lenVar": 40
   },
   "kernels_config": {
    "python": {
     "delete_cmd_postfix": "",
     "delete_cmd_prefix": "del ",
     "library": "var_list.py",
     "varRefreshCmd": "print(var_dic_list())"
    },
    "r": {
     "delete_cmd_postfix": ") ",
     "delete_cmd_prefix": "rm(",
     "library": "var_list.r",
     "varRefreshCmd": "cat(var_dic_list()) "
    }
   },
   "types_to_exclude": [
    "module",
    "function",
    "builtin_function_or_method",
    "instance",
    "_Feature"
   ],
   "window_display": false
  }
 },
 "nbformat": 4,
 "nbformat_minor": 4
}
